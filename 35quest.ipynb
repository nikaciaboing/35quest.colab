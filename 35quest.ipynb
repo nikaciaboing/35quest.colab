{
  "nbformat": 4,
  "nbformat_minor": 0,
  "metadata": {
    "colab": {
      "provenance": [],
      "authorship_tag": "ABX9TyNzMEjPuKdRLQLgH9Ow+tyk",
      "include_colab_link": true
    },
    "kernelspec": {
      "name": "python3",
      "display_name": "Python 3"
    },
    "language_info": {
      "name": "python"
    }
  },
  "cells": [
    {
      "cell_type": "markdown",
      "metadata": {
        "id": "view-in-github",
        "colab_type": "text"
      },
      "source": [
        "<a href=\"https://colab.research.google.com/github/nikaciaboing/35quest.colab/blob/main/35quest.ipynb\" target=\"_parent\"><img src=\"https://colab.research.google.com/assets/colab-badge.svg\" alt=\"Open In Colab\"/></a>"
      ]
    },
    {
      "cell_type": "markdown",
      "source": [
        "2.Ler um valor e escrever se é positivo, negativo ou zero."
      ],
      "metadata": {
        "id": "yNp7GeuMqge5"
      }
    },
    {
      "cell_type": "code",
      "source": [
        "valor=int(input(\"digite um valor:\"))\n",
        "if valor >= 1:\n",
        "  print(\"este numero é positivo!\")\n",
        "elif valor == 0:\n",
        "  print(\"este valor é zero!\")\n",
        "else:\n",
        "  print(\"este valor é negativo!\")\n"
      ],
      "metadata": {
        "id": "kcmQZFUTqlAY",
        "colab": {
          "base_uri": "https://localhost:8080/"
        },
        "outputId": "4af06f94-ca31-4c0d-de75-d4550f8282be"
      },
      "execution_count": null,
      "outputs": [
        {
          "output_type": "stream",
          "name": "stdout",
          "text": [
            "digite um valor:4\n",
            "este numero é positivo!\n"
          ]
        }
      ]
    },
    {
      "cell_type": "markdown",
      "source": [
        "3.Ler um valor e escrever a mensagem É MAIOR QUE 10! se o valor lido for maior que 10,\n",
        "caso contrário escrever NÃO É MAIOR QUE 10!"
      ],
      "metadata": {
        "id": "2De-erYHql7I"
      }
    },
    {
      "cell_type": "code",
      "source": [
        "valor=float(input(\"digite um numero:\"))\n",
        "if valor >= 10:\n",
        "  print(\"É MAIOR QUE 10!\")\n",
        "else:\n",
        "  print(\"NAO É MAOR QUE 10!\")\n",
        "  print(\"\\nFIM\\n\")"
      ],
      "metadata": {
        "id": "pnaijj3Nqqkk",
        "colab": {
          "base_uri": "https://localhost:8080/"
        },
        "outputId": "84630120-dcee-40ae-ada6-5c3b76dd5a87"
      },
      "execution_count": null,
      "outputs": [
        {
          "output_type": "stream",
          "name": "stdout",
          "text": [
            "digite um numero:7\n",
            "NAO É MAOR QUE 10!\n",
            "\n",
            "FIM\n",
            "\n"
          ]
        }
      ]
    },
    {
      "cell_type": "markdown",
      "source": [
        "4.Calcule a soma de dois números, se o resultado for maior que 10, mostre-o na tela."
      ],
      "metadata": {
        "id": "xrz48_sqvYdJ"
      }
    },
    {
      "cell_type": "code",
      "source": [
        "vlor=float(input(\"digite um numero:\"))\n",
        "vlor2=float(input(\"digite outro numero:\"))\n",
        "\n",
        "result = vlor+vlor2\n",
        "print(\"o valor é:\",result)\n",
        "if result >= 10:\n",
        "  print(\"o valor é:\")\n",
        "elif result <= 10:\n",
        "  print(\"valor invalido:\")\n"
      ],
      "metadata": {
        "colab": {
          "base_uri": "https://localhost:8080/"
        },
        "id": "qU7TypNnvbmI",
        "outputId": "ce05e328-3cdd-444b-96b9-8f3510a31fd4"
      },
      "execution_count": null,
      "outputs": [
        {
          "output_type": "stream",
          "name": "stdout",
          "text": [
            "digite um numero:00\n",
            "digite outro numero:8\n",
            "o valor é: 8.0\n",
            "valor invalido:\n"
          ]
        }
      ]
    },
    {
      "cell_type": "markdown",
      "source": [
        "5.Entrar com um número e informar se ele é divisível por 5."
      ],
      "metadata": {
        "id": "UcDarouIrRaV"
      }
    },
    {
      "cell_type": "code",
      "source": [
        "num = int(input(\"digite um numero\"))\n",
        "if num % 5 == 0:\n",
        " print(\"este numero é divisivel por cinco.\")\n",
        "else:\n",
        " print(\"este numero não é divisivel por cinco.\")\n"
      ],
      "metadata": {
        "colab": {
          "base_uri": "https://localhost:8080/"
        },
        "id": "7_z2QkXprUgC",
        "outputId": "c7245afd-faa5-438c-de13-25c3b196d659"
      },
      "execution_count": null,
      "outputs": [
        {
          "output_type": "stream",
          "name": "stdout",
          "text": [
            "digite um numero2\n",
            "este numero não é divisivel por cinco.\n"
          ]
        }
      ]
    },
    {
      "cell_type": "markdown",
      "source": [
        "6.Construir um algoritmo que indique se o número digitado está entre 20 e 90 ou não."
      ],
      "metadata": {
        "id": "hnp3WEWcrhT4"
      }
    },
    {
      "cell_type": "code",
      "source": [
        "num = int(input(\"digite um numero \"))\n",
        "if num > 20 and num < 90:\n",
        "  print(\"este numero esta entre 20 e 90.\")\n",
        "else:\n",
        "  print(\"este numero nao está entre 20 e 90.\")"
      ],
      "metadata": {
        "colab": {
          "base_uri": "https://localhost:8080/"
        },
        "id": "BWtVbXiMrlgV",
        "outputId": "7b84c5df-147d-43ab-fc0a-c99ed645b27f"
      },
      "execution_count": null,
      "outputs": [
        {
          "output_type": "stream",
          "name": "stdout",
          "text": [
            "digite um numero 40\n",
            "este numero esta entre 20 e 90.\n"
          ]
        }
      ]
    },
    {
      "cell_type": "markdown",
      "source": [
        "7. Ler o ano atual e o ano de nascimento de uma pessoa. Escrever uma mensagem que\n",
        "diga se ela poderá ou não votar este ano (não é necessário considerar o mês em que a\n",
        "pessoa nasceu)."
      ],
      "metadata": {
        "id": "ThWPlxjCrmDW"
      }
    },
    {
      "cell_type": "code",
      "source": [
        "ano=int(input(\"digite o ano atual \"))\n",
        "ano2=int(input(\"digite seu ano de nascimento \"))\n",
        "if ano-ano2>=18:\n",
        "  print(\"você poderá votar!\")\n",
        "else:\n",
        "  print(\"você não poderá votar! \")"
      ],
      "metadata": {
        "colab": {
          "base_uri": "https://localhost:8080/"
        },
        "id": "EQtiNp5nroZr",
        "outputId": "ce7b5fbf-2049-455e-dcf5-c41e764f5fad"
      },
      "execution_count": null,
      "outputs": [
        {
          "output_type": "stream",
          "name": "stdout",
          "text": [
            "digite o ano atual 2024\n",
            "digite seu ano de nascimento 2020\n",
            "você não poderá votar! \n"
          ]
        }
      ]
    },
    {
      "cell_type": "markdown",
      "source": [
        "8. Entrar com o ano de nascimento de uma pessoa e imprimir a idade dela. Verificar se o\n",
        "ano digitado é válido."
      ],
      "metadata": {
        "id": "NWFLp9sVrow-"
      }
    },
    {
      "cell_type": "code",
      "source": [
        "\n",
        "ano=int(input(\"digite o ano que você nasceu:\"))\n",
        "idade= 2024-ano\n",
        "if idade>0:\n",
        "  print(f\"voce tem {idade} anos.\")\n",
        "else:\n",
        "  print(\"voce tem menos de 1 ano.\")\n"
      ],
      "metadata": {
        "colab": {
          "base_uri": "https://localhost:8080/"
        },
        "id": "OtucI2WQr7oP",
        "outputId": "d5325452-fe5b-45f7-e2df-56db041dc09f"
      },
      "execution_count": null,
      "outputs": [
        {
          "output_type": "stream",
          "name": "stdout",
          "text": [
            "digite o ano que você nasceu.2025\n",
            "voce tem menos de 1 ano.\n"
          ]
        }
      ]
    },
    {
      "cell_type": "markdown",
      "source": [
        "9. Entrar com a idade de uma pessoa e exibir a mensagem; Maior de idade, menor de\n",
        "idade ou acima de 65 anos."
      ],
      "metadata": {
        "id": "VIZWumpsr78O"
      }
    },
    {
      "cell_type": "code",
      "source": [
        "idade=int(input(\"digite sua idade:\"))\n",
        "if idade >=18 and idade <=65:\n",
        "  print(\"maior de idade.\")\n",
        "elif idade <18:\n",
        "  print(\"vocẽ é menor de idade.\")\n",
        "else:\n",
        "  print(\"você tem mais de 65 anos\")"
      ],
      "metadata": {
        "colab": {
          "base_uri": "https://localhost:8080/"
        },
        "id": "Y35cUW0Fr_JA",
        "outputId": "48decfab-ab7b-42f4-c7be-5fde6cc13a62"
      },
      "execution_count": null,
      "outputs": [
        {
          "output_type": "stream",
          "name": "stdout",
          "text": [
            "digite sua idade:10\n",
            "vocẽ é menor de idade.\n"
          ]
        }
      ]
    },
    {
      "cell_type": "markdown",
      "source": [
        "10. Ler as notas da 1a\n",
        ". e 2a\n",
        ". avaliações de um aluno. Calcular a média aritmética simples e\n",
        "escrever uma mensagem que diga se o aluno foi ou não aprovado (considerar que se a\n",
        "nota for igual ou maior que 6 o aluno é aprovado). Escrever também a média\n",
        "calculada."
      ],
      "metadata": {
        "id": "KYhD6uwQr_fP"
      }
    },
    {
      "cell_type": "code",
      "source": [
        "nota1=float(input(\"digite a nota da primeira avaliação:\"))\n",
        "nota2=float(input(\"digite a nota da segunda avaliação:\"))\n",
        "nota=(nota1+nota2)/2\n",
        "if nota >=6:\n",
        "  print(\"voce foi aprovado.\")\n",
        "else:\n",
        "  print(\"voce foi reprovado.\")\n",
        "media= nota\n",
        "print(f\"a media é: {media}\")"
      ],
      "metadata": {
        "colab": {
          "base_uri": "https://localhost:8080/"
        },
        "id": "oj3iempNsBlb",
        "outputId": "774509a2-d8cc-47da-eb6d-3d154c20fb69"
      },
      "execution_count": null,
      "outputs": [
        {
          "output_type": "stream",
          "name": "stdout",
          "text": [
            "digite a nota da primeira avaliação:5\n",
            "digite a nota da segunda avaliação:2\n",
            "voce foi reprovado.\n",
            "a media é: 3.5\n"
          ]
        }
      ]
    },
    {
      "cell_type": "markdown",
      "source": [],
      "metadata": {
        "id": "iIlUdN5Tqq_x"
      }
    },
    {
      "cell_type": "markdown",
      "source": [
        "11. Escrever um algoritmo para ler duas notas de um aluno e escrever na tela a palavra\n",
        "“Aprovado” se a média das duas notas for maior ou igual a 7,0. Caso a média seja\n",
        "inferior a 7,0, o programa deve ler a nota do exame e calcular a média final. Se esta\n",
        "média for maior ou igual a 5,0, o programa deve escrever “Aprovado”, caso contrário\n",
        "deve escrever “Reprovado”."
      ],
      "metadata": {
        "id": "wWoaDobtsCIo"
      }
    },
    {
      "cell_type": "code",
      "source": [
        "nota=float(input(\"digite sua primeira nota:\"))\n",
        "nota2=float(input(\"digite sua segunda nota:\"))\n",
        "media=(nota+nota2)/2\n",
        "if media >=7:\n",
        "  print(\"aprovado\")\n",
        "else:\n",
        "  print(\"reprovado\")"
      ],
      "metadata": {
        "colab": {
          "base_uri": "https://localhost:8080/"
        },
        "id": "QFtv4sp_sEVh",
        "outputId": "c7f15fc2-132b-4a01-f3ae-ac8b50784500"
      },
      "execution_count": null,
      "outputs": [
        {
          "output_type": "stream",
          "name": "stdout",
          "text": [
            "digite sua primeira nota:3\n",
            "digite sua segunda nota:7\n",
            "reprovado\n"
          ]
        }
      ]
    },
    {
      "cell_type": "markdown",
      "source": [
        "12. Escrever um algoritmo para ler a quantidade de horas aula dadas por dois professores\n",
        "e o valor por hora recebido por cada um. Mostrar na tela qual dos professores tem\n",
        "salário total maior."
      ],
      "metadata": {
        "id": "Osa4K7_jxjma"
      }
    },
    {
      "cell_type": "code",
      "source": [
        "prof1=int(input(\"1.quantas aulas voce da?\"))\n",
        "profau1=int(input(\"quanto voce ganha por aula?\"))\n",
        "prof2=int(input(\"2.quantas aulas voce da?\"))\n",
        "profau2=int(input(\"quanto voce ganha por aula?\"))\n",
        "\n",
        "sal1=prof1*profau1\n",
        "sal2=prof2*profau2\n",
        "\n",
        "if sal1 > sal2:\n",
        "  print(\"o salario 1 é maior.\")\n",
        "else:\n",
        "  print(\"o salario 2 é maior.\")"
      ],
      "metadata": {
        "colab": {
          "base_uri": "https://localhost:8080/"
        },
        "id": "H3e3dBB-xkQa",
        "outputId": "95bc267e-461f-453d-eb59-76f26f60927e"
      },
      "execution_count": null,
      "outputs": [
        {
          "output_type": "stream",
          "name": "stdout",
          "text": [
            "1.quantas aulas voce da?3\n",
            "quanto voce ganha por aula?4\n",
            "2.quantas aulas voce da?5\n",
            "quanto voce ganha por aula?1\n",
            "o salario 1 é maior.\n"
          ]
        }
      ]
    },
    {
      "cell_type": "markdown",
      "source": [
        "13. Faça um algoritmo que leia um número inteiro e mostre uma mensagem indicando se\n",
        "este número é par ou ímpar."
      ],
      "metadata": {
        "id": "s4kFEEFPxksJ"
      }
    },
    {
      "cell_type": "code",
      "source": [
        "num=int(input(\"digite um numero:\"))\n",
        "if num %2 == 0:\n",
        "  print(f\"o numero {num} é par.\")\n",
        "else:\n",
        "  print(f\"o numero {num} é impar.\")\n"
      ],
      "metadata": {
        "colab": {
          "base_uri": "https://localhost:8080/"
        },
        "id": "uaV9njUHxnGq",
        "outputId": "81cef813-0b70-42d1-f69a-863c4365c426"
      },
      "execution_count": null,
      "outputs": [
        {
          "output_type": "stream",
          "name": "stdout",
          "text": [
            "digite um numero:3\n",
            "o numero 3 é impar.\n"
          ]
        }
      ]
    },
    {
      "cell_type": "markdown",
      "source": [
        "14. Ler o nome de 2 times e o número de gols marcados na partida. Escrever o nome do\n",
        "vencedor. Caso não haja vencedor deverá ser impressa a palavra EMPATE."
      ],
      "metadata": {
        "id": "fYPeOhWyxrTc"
      }
    },
    {
      "cell_type": "code",
      "source": [
        "time1=input(\"digite o nome do primeiro time:\")\n",
        "goltim1=int(input(\"digite o numero de gols feitos pelo time 1:\"))\n",
        "time2=input(\"digite o nome do segundo time:\")\n",
        "goltim2=int(input(\"digite o numero de gols feitos pelo time 2:\"))\n",
        "\n",
        "if goltim1 > goltim2:\n",
        "  print(f\"o time {time1} é o vencedor!\")\n",
        "elif goltim2 > goltim1:\n",
        "  print(f\"o time {time2} é o vencedor!\")\n",
        "else:\n",
        "  print(\"EMPATE\")"
      ],
      "metadata": {
        "colab": {
          "base_uri": "https://localhost:8080/"
        },
        "id": "Dp0sugQ2xsQ6",
        "outputId": "e90807ad-2c38-42fd-d9df-99b46f36e95e"
      },
      "execution_count": null,
      "outputs": [
        {
          "output_type": "stream",
          "name": "stdout",
          "text": [
            "digite o nome do primeiro time:FOHO\n",
            "digite o numero de gols feitos pelo time 1:2\n",
            "digite o nome do segundo time:AGUA\n",
            "digite o numero de gols feitos pelo time 2:2\n",
            "EMPATE\n"
          ]
        }
      ]
    },
    {
      "cell_type": "markdown",
      "source": [
        "15. Entrar com a sigla do estado de uma pessoa e imprimir uma das mensagens: “Carioca,\n",
        "Paulista, Mineiro ou Outros”"
      ],
      "metadata": {
        "id": "Ma7QLqDvxtNi"
      }
    },
    {
      "cell_type": "code",
      "source": [
        "estados = {\n",
        "    \"RJ\": \"carioca\",\n",
        "    \"SP\": \"paulista\",\n",
        "    \"MG\": \"mineiro\" ,\n",
        "    \"SC\": \"catarinense\"\n",
        "}\n",
        "sigla = input(\"digite a sigla do estado:\")\n",
        "if sigla in estados:\n",
        "  print(\"voce é\", estados[sigla])\n",
        "else:\n",
        "  print(\"estado não encontrado.\")"
      ],
      "metadata": {
        "colab": {
          "base_uri": "https://localhost:8080/"
        },
        "id": "purhzCTw3D3l",
        "outputId": "2e9ac1ef-a735-4a5d-9348-de88a5513135"
      },
      "execution_count": null,
      "outputs": [
        {
          "output_type": "stream",
          "name": "stdout",
          "text": [
            "digite a sigla do estado:SC\n",
            "voce é catarinense\n"
          ]
        }
      ]
    },
    {
      "cell_type": "markdown",
      "source": [
        "16. um comerciante comprou um produto e quer vendê-lo com um lucro de 45% se o valor\n",
        "da compra for menor que R$ 20,00; Caso contrário, o lucro será de 30%. Entrar com o\n",
        "valor do produto e imprimir o valor da venda."
      ],
      "metadata": {
        "id": "_Ujv0LNr3ESh"
      }
    },
    {
      "cell_type": "code",
      "source": [
        "# Entrada do valor do produto\n",
        "valor_compra = float(input(\"Digite o valor do produto: \"))\n",
        "\n",
        "# Verifica se o valor da compra é menor que R$ 20,00\n",
        "if valor_compra < 20.00:\n",
        "    lucro = 0.45  # Lucro de 45%\n",
        "else:\n",
        "    lucro = 0.30  # Lucro de 30%\n",
        "\n",
        "# Calcula o valor da venda\n",
        "valor_venda = valor_compra * (1 + lucro)\n",
        "\n",
        "# Saída do valor da venda\n",
        "print(\"O valor da venda é: R$\", valor_venda)"
      ],
      "metadata": {
        "id": "ScWf1yQb3Qvp",
        "colab": {
          "base_uri": "https://localhost:8080/"
        },
        "outputId": "5ff364e5-9a20-481b-8dd3-05a17895019f"
      },
      "execution_count": null,
      "outputs": [
        {
          "output_type": "stream",
          "name": "stdout",
          "text": [
            "Digite o valor do produto: 40\n",
            "O valor da venda é: R$ 52.0\n"
          ]
        }
      ]
    },
    {
      "cell_type": "markdown",
      "source": [
        "17. Entrar com um número de 1 a 12 e exibir o mês correspondente."
      ],
      "metadata": {
        "id": "Q7d_E6WJ3RJY"
      }
    },
    {
      "cell_type": "code",
      "source": [
        "meses = {\n",
        "    1:\"janeiro\",\n",
        "    2:\"fevereiro\",\n",
        "    3: \"março\",\n",
        "    4: \"abril\",\n",
        "    5: \"maio\",\n",
        "    6: \"junho\",\n",
        "    7: \"julho\",\n",
        "    8: \"agosto\",\n",
        "    9: \"setembro\",\n",
        "    10: \"outubro\",\n",
        "    11: \"novembro\",\n",
        "    12: \"dezembro\"\n",
        "}\n",
        "nummes=int(input(\"digite um número de 1 a 12: \"))\n",
        "if nummes in meses:\n",
        "  print(\"o mês correspondente é\", meses[nummes])\n",
        "else:\n",
        "  print(\"numero invalido!\")\n"
      ],
      "metadata": {
        "colab": {
          "base_uri": "https://localhost:8080/"
        },
        "id": "Wk66PDVI3WtY",
        "outputId": "6834d78a-186c-455d-c8cc-b17529afdc74"
      },
      "execution_count": null,
      "outputs": [
        {
          "output_type": "stream",
          "name": "stdout",
          "text": [
            "digite um número de 1 a 12: 2\n",
            "o mês correspondente é fevereiro\n"
          ]
        }
      ]
    },
    {
      "cell_type": "markdown",
      "source": [
        "18. Faça um algoritmo que verifique se uma letra digitada é vogal ou consoante."
      ],
      "metadata": {
        "id": "eR7BUxKP6LUZ"
      }
    },
    {
      "cell_type": "code",
      "source": [
        "# Entrada da letra\n",
        "letra = input(\"Digite uma letra: \")\n",
        "\n",
        "# Verifica se é vogal\n",
        "if letra.lower() in ['a', 'e', 'i', 'o', 'u']:\n",
        "    print(\"A letra digitada é uma vogal.\")\n",
        "# Verifica se é consoante\n",
        "elif letra.lower().isalpha():\n",
        "    print(\"A letra digitada é uma consoante.\")\n",
        "# Se não for uma letra\n",
        "else:\n",
        "    print(\"Você não digitou uma letra.\")"
      ],
      "metadata": {
        "id": "3LrqrCvP6L8J",
        "colab": {
          "base_uri": "https://localhost:8080/"
        },
        "outputId": "659be7d7-a763-4207-c9d4-4efacd2cb8f8"
      },
      "execution_count": null,
      "outputs": [
        {
          "output_type": "stream",
          "name": "stdout",
          "text": [
            "Digite uma letra: B\n",
            "A letra digitada é uma consoante.\n"
          ]
        }
      ]
    },
    {
      "cell_type": "markdown",
      "source": [
        "19. Ler 2 valores (considere que não serão lidos valores iguais) e escrever o maior deles."
      ],
      "metadata": {
        "id": "zXkVUHWQ6MjB"
      }
    },
    {
      "cell_type": "code",
      "source": [
        "# Leitura dos dois valores\n",
        "valor1 = float(input(\"Digite o primeiro valor: \"))\n",
        "valor2 = float(input(\"Digite o segundo valor: \"))\n",
        "\n",
        "# Verifica qual é o maior valor\n",
        "if valor1 > valor2:\n",
        "    maior = valor1\n",
        "else:\n",
        "    maior = valor2\n",
        "\n",
        "# Saída do maior valor\n",
        "print(\"O maior valor é:\", maior)"
      ],
      "metadata": {
        "id": "2lbEQ34z6PRp",
        "colab": {
          "base_uri": "https://localhost:8080/"
        },
        "outputId": "e3967e6c-3b47-4fa4-a1f5-3356a1aba2f8"
      },
      "execution_count": null,
      "outputs": [
        {
          "output_type": "stream",
          "name": "stdout",
          "text": [
            "Digite o primeiro valor: 7\n",
            "Digite o segundo valor: 2\n",
            "O maior valor é: 7.0\n"
          ]
        }
      ]
    },
    {
      "cell_type": "markdown",
      "source": [
        "20. Ler 2 valores (considere que não serão lidos valores iguais) e escrevê-los em ordem\n",
        "crescente."
      ],
      "metadata": {
        "id": "hmtdTRVs6RMD"
      }
    },
    {
      "cell_type": "code",
      "source": [
        "# Leitura dos dois valores\n",
        "num1 = float(input(\"Digite o primeiro valor: \"))\n",
        "num2 = float(input(\"Digite o segundo valor: \"))\n",
        "\n",
        "# Verifica a ordem dos valores e os escreve em ordem crescente\n",
        "if num1 < num2:\n",
        "    print(\"Os valores em ordem crescente são:\", num1, num2)\n",
        "else:\n",
        "    print(\"Os valores em ordem crescente são:\", num2, num1)2\n"
      ],
      "metadata": {
        "id": "QvLrnAuu6R1U",
        "colab": {
          "base_uri": "https://localhost:8080/"
        },
        "outputId": "5cf9ad26-f8d8-43b0-f86e-0dc89fac38bb"
      },
      "execution_count": null,
      "outputs": [
        {
          "output_type": "stream",
          "name": "stdout",
          "text": [
            "Digite o primeiro valor: 4\n",
            "Digite o segundo valor: 3\n",
            "Os valores em ordem crescente são: 3.0 4.0\n"
          ]
        }
      ]
    },
    {
      "cell_type": "markdown",
      "source": [
        "21. Ler 3 valores (considere que não serão informados valores iguais) e escrever o maior\n",
        "deles."
      ],
      "metadata": {
        "id": "WBuC7hog6SPa"
      }
    },
    {
      "cell_type": "code",
      "source": [
        "# Leitura dos três valores\n",
        "num1 = float(input(\"Digite o primeiro valor: \"))\n",
        "num2 = float(input(\"Digite o segundo valor: \"))\n",
        "num3 = float(input(\"Digite o terceiro valor: \"))\n",
        "\n",
        "# Encontrando o maior valor\n",
        "maior = max(num1, num2, num3)\n",
        "\n",
        "# Saída do maior valor\n",
        "print(\"O maior valor é:\", maior)"
      ],
      "metadata": {
        "id": "b1GQUuav6VK2",
        "colab": {
          "base_uri": "https://localhost:8080/"
        },
        "outputId": "ae733948-d5e2-44c1-9677-e00b873b40e1"
      },
      "execution_count": null,
      "outputs": [
        {
          "output_type": "stream",
          "name": "stdout",
          "text": [
            "Digite o primeiro valor: 2\n",
            "Digite o segundo valor: 4\n",
            "Digite o terceiro valor: 4\n",
            "O maior valor é: 4.0\n"
          ]
        }
      ]
    },
    {
      "cell_type": "markdown",
      "source": [
        "22. Ler 3 valores (considere que não serão informados valores iguais) e escrever a soma\n",
        "dos 2 maiores."
      ],
      "metadata": {
        "id": "Xn0qORBW6Vey"
      }
    },
    {
      "cell_type": "code",
      "source": [
        "num=float(input(\"digite um numero\"))\n",
        "num2=float(input(\"digite outro numero\"))\n",
        "num3=float(input(\"digite mais um numero\"))\n",
        "maior=max(num, num2, num3)\n",
        "menor=min(num,num2,num3)\n",
        "soma=num+num2+num3-menor-maior\n",
        "print(\"a soma dos dois maiores valores é: \",soma)"
      ],
      "metadata": {
        "id": "Bz1kN3jF6YFO",
        "colab": {
          "base_uri": "https://localhost:8080/"
        },
        "outputId": "ddf9cb0c-7e69-41b2-81ee-5301417a582a"
      },
      "execution_count": null,
      "outputs": [
        {
          "output_type": "stream",
          "name": "stdout",
          "text": [
            "digite um numero1\n",
            "digite outro numero2\n",
            "digite mais um numero2\n",
            "a soma dos dois maiores valores é:  2.0\n"
          ]
        }
      ]
    },
    {
      "cell_type": "markdown",
      "source": [
        "23. Ler 3 valores (considere que não serão informados valores iguais) e escrevê-los em\n",
        "ordem crescente."
      ],
      "metadata": {
        "id": "aKNEEYUQ6YXj"
      }
    },
    {
      "cell_type": "code",
      "source": [
        "a=int(input(\"digite um valor:\"))\n",
        "b=int(input(\"digite outro valor:\"))\n",
        "c=int(input(\"digite mais um valor\"))\n",
        "if a > b > c:\n",
        "  print(a, b, c)\n",
        "elif a < c < b:\n",
        "  print(a, c, b)\n",
        "elif b < a < c:\n",
        "  print(b, a ,c)\n",
        "elif b < c < a:\n",
        "  print(b, c, a)\n",
        "elif c < a < b:\n",
        "  print(c ,a ,b)\n",
        "else:\n",
        "  print(c, b, a)\n"
      ],
      "metadata": {
        "colab": {
          "base_uri": "https://localhost:8080/"
        },
        "id": "BDobkNIz6bMs",
        "outputId": "b6c73ddd-d944-4801-d602-02c2f7482f04"
      },
      "execution_count": null,
      "outputs": [
        {
          "output_type": "stream",
          "name": "stdout",
          "text": [
            "digite um valor:8\n",
            "digite outro valor:9\n",
            "digite mais um valor5\n",
            "5 8 9\n"
          ]
        }
      ]
    },
    {
      "cell_type": "markdown",
      "source": [
        "24.  Faça um algoritmo que leia as duas notas parciais obtidas por um aluno numa\n",
        "disciplina ao longo de um semestre, e calcule a sua média. A atribuição de conceitos\n",
        "obedece à tabela abaixo:\n",
        "\n",
        "Média de\n",
        "Aproveitamento Conceito\n",
        "Entre 9.0 e 10.0 A\n",
        "Entre 7.5 e 9.0 B\n",
        "Entre 6.0 e 7.5 C\n",
        "Entre 4.0 e 6.0 D\n",
        "Entre 4.0 e zero E\n",
        "\n",
        "O algoritmo deve mostrar na tela as notas, a média, o conceito correspondente e a\n",
        "mensagem “APROVADO” se o conceito for A, B ou C ou “REPROVADO” se o conceito for D\n",
        "ou E."
      ],
      "metadata": {
        "id": "RiBNwwHN6brD"
      }
    },
    {
      "cell_type": "code",
      "source": [
        "# Leitura das duas notas parciais\n",
        "nota1 = float(input(\"Digite a primeira nota parcial: \"))\n",
        "nota2 = float(input(\"Digite a segunda nota parcial: \"))\n",
        "\n",
        "# Cálculo da média\n",
        "media = (nota1 + nota2) / 2\n",
        "\n",
        "# Atribuição do conceito com base na média\n",
        "if media >= 9.0:\n",
        "    conceito = 'A'\n",
        "elif media >= 7.5:\n",
        "    conceito = 'B'\n",
        "elif media >= 6.0:\n",
        "    conceito = 'C'\n",
        "elif media >= 4.0:\n",
        "    conceito = 'D'\n",
        "else:\n",
        "    conceito = 'E'\n",
        "\n",
        "# Imprimir as notas, a média, o conceito correspondente e a situação do aluno\n",
        "print(\"Notas: {} e {}\".format(nota1, nota2))\n",
        "print(\"Média:\", media)\n",
        "print(\"Conceito:\", conceito)\n",
        "if conceito in ['A', 'B', 'C']:\n",
        "    print(\"Situação: APROVADO\")\n",
        "else:\n",
        "    print(\"Situação: REPROVADO\")"
      ],
      "metadata": {
        "id": "sMfMo8uQ6g6c",
        "colab": {
          "base_uri": "https://localhost:8080/"
        },
        "outputId": "ae37498e-0b81-44d6-d87e-64fa786c88ca"
      },
      "execution_count": null,
      "outputs": [
        {
          "output_type": "stream",
          "name": "stdout",
          "text": [
            "Digite a primeira nota parcial: 10\n",
            "Digite a segunda nota parcial: 5\n",
            "Notas: 10.0 e 5.0\n",
            "Média: 7.5\n",
            "Conceito: B\n",
            "Situação: APROVADO\n"
          ]
        }
      ]
    },
    {
      "cell_type": "markdown",
      "source": [
        "25. Escrever um algoritmo para ler dois valores e uma das seguintes operações a serem\n",
        "executadas (codificadas da seguinte forma: 1 – Adição, 2 – Subtração, 3 – Multiplicação\n",
        "e 4 – Divisão). Calcular e escrever o resultado dessa operação sobre os dois valores\n",
        "lidos."
      ],
      "metadata": {
        "id": "yXFduHg86kMH"
      }
    },
    {
      "cell_type": "code",
      "source": [
        "# Leitura dos dois valores\n",
        "valor1 = float(input(\"Digite o primeiro valor: \"))\n",
        "valor2 = float(input(\"Digite o segundo valor: \"))\n",
        "\n",
        "# Leitura da operação a ser realizada\n",
        "operacao = int(input(\"Digite o número da operação desejada (1 para Adição, 2 para Subtração, 3 para Multiplicação, 4 para Divisão): \"))\n",
        "\n",
        "# Realiza a operação selecionada e imprime o resultado\n",
        "if operacao == 1:\n",
        "    resultado = valor1 + valor2\n",
        "    print(\"O resultado da adição é:\", resultado)\n",
        "elif operacao == 2:\n",
        "    resultado = valor1 - valor2\n",
        "    print(\"O resultado da subtração é:\", resultado)\n",
        "elif operacao == 3:\n",
        "    resultado = valor1 * valor2\n",
        "    print(\"O resultado da multiplicação é:\", resultado)\n",
        "elif operacao == 4:\n",
        "    # Verifica se o segundo valor não é zero para evitar divisão por zero\n",
        "    if valor2 != 0:\n",
        "        resultado = valor1 / valor2\n",
        "        print(\"O resultado da divisão é:\", resultado)\n",
        "    else:\n",
        "        print(\"Impossível dividir por zero.\")\n",
        "else:\n",
        "    print(\"Operação inválida. Por favor, escolha uma operação válida.\")"
      ],
      "metadata": {
        "id": "4AZ9aFw96qL5"
      },
      "execution_count": null,
      "outputs": []
    },
    {
      "cell_type": "markdown",
      "source": [
        "26. Faça um algoritmo para calcular as raízes reais de uma equação quadrática: ax2 + bx +\n",
        "c = 0. Uma equação quadrática só tem raiz reais se (b2 - 4ac) for maior ou igual a\n",
        "zero. O algoritmo deverá informar as seguintes situações:\n",
        "• Se o delta calculado for negativo, a equação não possui raízes reais. Informe ao\n",
        "usuário e encerre o programa;\n",
        "• Se o delta calculado for igual a zero a equação possui apenas uma raiz real,\n",
        "informe-a ao usuário;\n",
        "• Se o delta for positivo, a equação possui duas raiz reais, informe-as ao usuário."
      ],
      "metadata": {
        "id": "b_35JLRh6qlf"
      }
    },
    {
      "cell_type": "code",
      "source": [
        "import math\n",
        "\n",
        "# Função para calcular as raízes reais da equação quadrática\n",
        "def calcular_raizes(a, b, c):\n",
        "    # Calcula o delta\n",
        "    delta = b**2 - 4*a*c\n",
        "\n",
        "    # Verifica se o delta é negativo\n",
        "    if delta < 0:\n",
        "        print(\"A equação não possui raízes reais.\")\n",
        "    # Se o delta for igual a zero, possui apenas uma raiz real\n",
        "    elif delta == 0:\n",
        "        raiz = -b / (2*a)\n",
        "        print(\"A equação possui apenas uma raiz real:\", raiz)\n",
        "    # Se o delta for positivo, possui duas raízes reais\n",
        "    else:\n",
        "        raiz1 = (-b + math.sqrt(delta)) / (2*a)\n",
        "        raiz2 = (-b - math.sqrt(delta)) / (2*a)\n",
        "        print(\"A equação possui duas raízes reais:\")\n",
        "        print(\"Raiz 1:\", raiz1)\n",
        "        print(\"Raiz 2:\", raiz2)\n",
        "\n",
        "# Leitura dos coeficientes da equação quadrática\n",
        "a = float(input(\"Digite o coeficiente 'a': \"))\n",
        "b = float(input(\"Digite o coeficiente 'b': \"))\n",
        "c = float(input(\"Digite o coeficiente 'c': \"))\n",
        "\n",
        "# Chama a função para calcular as raízes reais\n",
        "calcular_raizes(a, b, c)"
      ],
      "metadata": {
        "id": "FyDpdw1v6tsx",
        "colab": {
          "base_uri": "https://localhost:8080/"
        },
        "outputId": "27652db3-c059-4af3-89e0-e83ca901deca"
      },
      "execution_count": null,
      "outputs": [
        {
          "output_type": "stream",
          "name": "stdout",
          "text": [
            "Digite o coeficiente 'a': 4\n",
            "Digite o coeficiente 'b': 5\n",
            "Digite o coeficiente 'c': 7\n",
            "A equação não possui raízes reais.\n"
          ]
        }
      ]
    },
    {
      "cell_type": "markdown",
      "source": [
        "27. Faça um algoritmo que leia 3 valores a, b, c, e verifique se podem ser os\n",
        "comprimentos dos lados de um triângulo. Em caso afirmativo, verifique se é “triângulo\n",
        "equilátero”, “triângulo isósceles” ou “triângulo escaleno”. Em caso negativo, escreva\n",
        "uma mensagem: “os valores lidos não formam um triângulo”. Considere que:\n",
        "• o comprimento de cada lado de um triângulo é menor que a soma dos\n",
        "comprimentos dos outros lados\n",
        "• um triângulo equilátero tem três lados iguais\n",
        "• um triângulo isósceles tem dois lados iguais e um diferente\n",
        "• um triângulo escaleno tem três lados diferentes."
      ],
      "metadata": {
        "id": "dQMzhKZO6uOW"
      }
    },
    {
      "cell_type": "code",
      "source": [
        "# Leitura dos três valores\n",
        "a = float(input(\"Digite o comprimento do lado a: \"))\n",
        "b = float(input(\"Digite o comprimento do lado b: \"))\n",
        "c = float(input(\"Digite o comprimento do lado c: \"))\n",
        "\n",
        "# Verificação se os valores formam um triângulo\n",
        "if a < b + c and b < a + c and c < a + b:\n",
        "    # Verificação do tipo de triângulo\n",
        "    if a == b == c:\n",
        "        print(\"Os valores formam um triângulo equilátero.\")\n",
        "    elif a == b or a == c or b == c:\n",
        "        print(\"Os valores formam um triângulo isósceles.\")\n",
        "    else:\n",
        "        print(\"Os valores formam um triângulo escaleno.\")\n",
        "else:\n",
        "    print(\"Os valores lidos não formam um triângulo.\")"
      ],
      "metadata": {
        "id": "FftZFVUi6wvf",
        "colab": {
          "base_uri": "https://localhost:8080/"
        },
        "outputId": "3337be92-a858-4583-f299-43d9ec9bdf06"
      },
      "execution_count": null,
      "outputs": [
        {
          "output_type": "stream",
          "name": "stdout",
          "text": [
            "Digite o comprimento do lado a: 4\n",
            "Digite o comprimento do lado b: 4\n",
            "Digite o comprimento do lado c: 2\n",
            "Os valores formam um triângulo isósceles.\n"
          ]
        }
      ]
    },
    {
      "cell_type": "markdown",
      "source": [
        "28. Escreva um algoritmo que leia 4 valores (opção, a, b, c), onde opção é um valor\n",
        "inteiro e positivo e a, b, c são quaisquer valores reais. Escreva os valores lidos da\n",
        "seguinte maneira:\n",
        "se opção = 1 Þ escreva os 3 valores a, b, c em ordem crescente\n",
        "se opção = 2 Þ escreva os 3 valores a, b, c em ordem decrescente\n",
        "se opção = 3 Þ escreva os 3 valores de forma que o maior valor entre a, b, c fica\n",
        "entre os outros 2."
      ],
      "metadata": {
        "id": "bS2pq-Yq6xDL"
      }
    },
    {
      "cell_type": "code",
      "source": [
        "def ordena_crescente(a, b, c):\n",
        "  \"\"\"\n",
        "  Ordena os valores a, b e c em ordem crescente.\n",
        "\n",
        "  Args:\n",
        "    a: O primeiro valor.\n",
        "    b: O segundo valor.\n",
        "    c: O terceiro valor.\n",
        "\n",
        "  Returns:\n",
        "    Uma tupla com os valores a, b e c em ordem crescente.\n",
        "  \"\"\"\n",
        "\n",
        "  if a < b:\n",
        "    if b < c:\n",
        "      return a, b, c\n",
        "    elif a < c:\n",
        "      return a, c, b\n",
        "    else:\n",
        "      return c, a, b\n",
        "  elif a < c:\n",
        "    return b, a, c\n",
        "  else:\n",
        "    return b, c, a\n",
        "\n",
        "def ordena_decrescente(a, b, c):\n",
        "  \"\"\"\n",
        "  Ordena os valores a, b e c em ordem decrescente.\n",
        "\n",
        "  Args:\n",
        "    a: O primeiro valor.\n",
        "    b: O segundo valor.\n",
        "    c: O terceiro valor.\n",
        "\n",
        "  Returns:\n",
        "    Uma tupla com os valores a, b e c em ordem decrescente.\n",
        "  \"\"\"\n",
        "\n",
        "  return ordena_crescente(c, b, a)\n",
        "\n",
        "def ordena_maior_no_meio(a, b, c):\n",
        "  \"\"\"\n",
        "  Ordena os valores a, b e c de forma que o maior valor fica entre os outros 2.\n",
        "\n",
        "  Args:\n",
        "    a: O primeiro valor.\n",
        "    b: O segundo valor.\n",
        "    c: O terceiro valor.\n",
        "\n",
        "  Returns:\n",
        "    Uma tupla com os valores a, b e c ordenados de forma que o maior valor fica entre os outros 2.\n",
        "  \"\"\"\n",
        "\n",
        "  if a > b:\n",
        "    if a > c:\n",
        "      return b, a, c\n",
        "    else:\n",
        "      return c, a, b\n",
        "  elif b > c:\n",
        "    return a, b, c\n",
        "  else:\n",
        "    return a, c, b\n",
        "\n",
        "# Leitura dos valores\n",
        "opcao = int(input(\"Digite a opção (1, 2 ou 3): \"))\n",
        "a = float(input(\"Digite o valor a: \"))\n",
        "b = float(input(\"Digite o valor b: \"))\n",
        "c = float(input(\"Digite o valor c: \"))\n",
        "\n",
        "# Ordenação dos valores\n",
        "if opcao == 1:\n",
        "  valores = ordena_crescente(a, b, c)\n",
        "elif opcao == 2:\n",
        "  valores = ordena_decrescente(a, b, c)\n",
        "elif opcao == 3:\n",
        "  valores = ordena_maior_no_meio(a, b, c)\n",
        "else:\n",
        "  print(\"Opção inválida.\")\n",
        "  exit()\n",
        "\n",
        "# Exibição dos valores ordenados\n",
        "print(f\"Valores ordenados: {valores}\")"
      ],
      "metadata": {
        "id": "4IlIcjML65Dh",
        "colab": {
          "base_uri": "https://localhost:8080/"
        },
        "outputId": "110affa7-31cd-4ab7-b143-c0b2ee1ef832"
      },
      "execution_count": null,
      "outputs": [
        {
          "output_type": "stream",
          "name": "stdout",
          "text": [
            "Digite a opção (1, 2 ou 3): 2\n",
            "Digite o valor a: 4\n",
            "Digite o valor b: 2\n",
            "Digite o valor c: 1\n",
            "Valores ordenados: (1.0, 2.0, 4.0)\n"
          ]
        }
      ]
    },
    {
      "cell_type": "markdown",
      "source": [
        "29. Uma empresa decidiu conceder um aumento de salário a seus funcionários de acordo\n",
        "com a tabela:\n",
        "\n",
        "em R$ Índice de\n",
        "Aumento\n",
        "salário £ 400.00 15%\n",
        "400.00 < salário £ 700.00 12%\n",
        "700.00 < salário £ 1000.00 10%\n",
        "1000.00 < salário £ 1500.00 7%\n",
        "1500.00 < salário £ 2000.00 4%\n",
        "salário > 2000.00 sem aumento\n",
        "\n",
        "Faça um algoritmo que leia o salário atual de um funcionário e escreva o índice de\n",
        "aumento e o valor do salário corrigido."
      ],
      "metadata": {
        "id": "yFLanN4c65kn"
      }
    },
    {
      "cell_type": "code",
      "source": [
        "sal=float(input(\"digite o valor do seu salario:\"))\n",
        "if sal<=400:\n",
        "  print(f\"voce teve 15% de aumento e seu sálario agora é: R$ {sal*1.15:.2f}\")\n",
        "elif sal > 400 and sal <=700:\n",
        "  print(f\"voce teve 12% de aumento e seu salario agora é: R$ {sal*1.12:.2f}\")\n",
        "elif sal >700 and sal <=1000:\n",
        "  print(f\"voce teve 10% de aumento e seu salario agora é: R$ {sal*1.10:.2f}\")\n",
        "elif sal >1000and sal <=1500:\n",
        "  print(f\"voce teve um aumento de 7% e seu salario agora é: R$ {sal*1.7:.2f}\")\n",
        "elif sal > 1500 and sal <= 2000:\n",
        "  print(f\"voce teve um aumento de 4% e seu salario agora é: R$ {sal*1.4:.2f}\")\n",
        "elif sal > 2000:\n",
        "  print(\"sem aumento\")"
      ],
      "metadata": {
        "colab": {
          "base_uri": "https://localhost:8080/"
        },
        "id": "BSDi5PS_68xy",
        "outputId": "d473b6b8-2407-4969-abff-79628cef35cd"
      },
      "execution_count": null,
      "outputs": [
        {
          "output_type": "stream",
          "name": "stdout",
          "text": [
            "digite o valor do seu salario:2100\n",
            "sem aumento\n"
          ]
        }
      ]
    },
    {
      "cell_type": "markdown",
      "source": [
        "30. Faça um algoritmo para calcular o reajuste salarial de um funcionário, de acordo com\n",
        "os critérios abaixo:\n",
        "• se salário é inferior a R$ 10.000,00 deve ter um reajuste de 55%\n",
        "• se salário está entre R$ 10.000,00 (inclusive) e R$ 25.000,00 (inclusive) deve ter\n",
        "um reajuste de 20%\n",
        "• se salário é superior a R$ 25.000,00 deve ter um reajuste de 20%."
      ],
      "metadata": {
        "id": "2a9Ty7WZ7AEJ"
      }
    },
    {
      "cell_type": "code",
      "source": [
        "# Função para calcular o reajuste salarial\n",
        "def calcular_reajuste(salario):\n",
        "    if salario < 10000:\n",
        "        salario_reajustado = salario * 1.55\n",
        "    elif salario >= 10000 and salario <= 25000:\n",
        "        salario_reajustado = salario * 1.20\n",
        "    else:\n",
        "        salario_reajustado = salario * 1.20\n",
        "    return salario_reajustado\n",
        "\n",
        "# Leitura do salário do funcionário\n",
        "salario = float(input(\"Digite o salário do funcionário: R$\"))\n",
        "\n",
        "# Verificação do reajuste salarial e impressão do resultado\n",
        "salario_reajustado = calcular_reajuste(salario)\n",
        "print(\"O novo salário do funcionário após o reajuste é: R$\", salario_reajustado)"
      ],
      "metadata": {
        "id": "6GAY2xwj7BzB",
        "colab": {
          "base_uri": "https://localhost:8080/"
        },
        "outputId": "635287b0-bd40-4bd6-9766-dd0733bed1c1"
      },
      "execution_count": null,
      "outputs": [
        {
          "output_type": "stream",
          "name": "stdout",
          "text": [
            "Digite o salário do funcionário: R$2000\n",
            "O novo salário do funcionário após o reajuste é: R$ 3100.0\n"
          ]
        }
      ]
    },
    {
      "cell_type": "markdown",
      "source": [
        "31. Faça um algoritmo para controle de temperatura de um forno que derrete alumínio. O\n",
        "programa deverá perguntar qual a temperatura que o alumínio deverá ser trabalhado e\n",
        "operar nas seguintes condições:\n",
        "• Se temperatura for inferior ou igual 500°C enviar uma mensagem para tela\n",
        "\"Temperatura Inválida\";\n",
        "• Se temperatura for menor do que 700°C enviar uma mensagem para tela\n",
        "\"Aquecimento Ligado em 100%\";\n",
        "• Se temperatura for menor do que 735°C enviar uma mensagem para tela\n",
        "\"Aquecimento Ligado em 50%\";\n",
        "• Se temperatura for maior ou igual 735°C enviar uma mensagem para tela\n",
        "\"Aquecimento Desligado\";\n",
        "• Se temperatura for maior do que 780°C enviar uma mensagem para tela\n",
        "\"Superaquecimento\";\n",
        "Os valores digitados devem ser inteiros e inferiores a 1000."
      ],
      "metadata": {
        "id": "X4iIj22S7efT"
      }
    },
    {
      "cell_type": "code",
      "source": [
        "# Função para verificar a temperatura do forno e controlar o aquecimento\n",
        "def controlar_temperatura(temperatura):\n",
        "    if temperatura <= 500:\n",
        "        print(\"Temperatura Inválida\")\n",
        "    elif temperatura < 700:\n",
        "        print(\"Aquecimento Ligado em 100%\")\n",
        "    elif temperatura < 735:\n",
        "        print(\"Aquecimento Ligado em 50%\")\n",
        "    elif temperatura < 780:\n",
        "        print(\"Aquecimento Desligado\")\n",
        "    else:\n",
        "        print(\"Superaquecimento\")\n",
        "\n",
        "# Leitura da temperatura\n",
        "temperatura = int(input(\"Digite a temperatura do forno (em °C): \"))\n",
        "\n",
        "# Verificação da validade da temperatura\n",
        "if temperatura < 0 or temperatura >= 1000:\n",
        "    print(\"Temperatura fora do intervalo permitido (0 a 999°C).\")\n",
        "else:\n",
        "    controlar_temperatura(temperatura)"
      ],
      "metadata": {
        "id": "VieXbuet7fZE",
        "colab": {
          "base_uri": "https://localhost:8080/"
        },
        "outputId": "30661333-f742-4b20-fde0-d5dacd5dff1a"
      },
      "execution_count": null,
      "outputs": [
        {
          "output_type": "stream",
          "name": "stdout",
          "text": [
            "Digite a temperatura do forno (em °C): 800\n",
            "Superaquecimento\n"
          ]
        }
      ]
    },
    {
      "cell_type": "markdown",
      "source": [
        "32. Faça um algoritmo que permita a entrada de um valor de 1 a 4. Em seguida, leia dois\n",
        "valores. Calcular e imprimir:\n",
        "• Se valor digitado for 0, calcular e exibir a soma dos números\n",
        "• Se valor digitado for 1, calcular e exibir a subtração dos números\n",
        "• Se valor digitado for 2, calcular e exibir a multiplicação dos números\n",
        "• Se valor digitado for 3, calcular e exibir a divisão dos números\n",
        "• Se valor digitado for 4, calcular e exibir a média dos números\n",
        "• Diferente de 1,2,3 ou 4, exibir a mensagem “Valor errado. Programa encerrado sem\n",
        "cálculos”"
      ],
      "metadata": {
        "id": "W3VsgnRi7jro"
      }
    },
    {
      "cell_type": "code",
      "source": [
        "# Função para calcular e imprimir a soma dos números\n",
        "def calcular_soma(num1, num2):\n",
        "    soma = num1 + num2\n",
        "    print(\"A soma dos números é:\", soma)\n",
        "\n",
        "# Função para calcular e imprimir a subtração dos números\n",
        "def calcular_subtracao(num1, num2):\n",
        "    subtracao = num1 - num2\n",
        "    print(\"A subtração dos números é:\", subtracao)\n",
        "\n",
        "# Função para calcular e imprimir a multiplicação dos números\n",
        "def calcular_multiplicacao(num1, num2):\n",
        "    multiplicacao = num1 * num2\n",
        "    print(\"A multiplicação dos números é:\", multiplicacao)\n",
        "\n",
        "# Função para calcular e imprimir a divisão dos números\n",
        "def calcular_divisao(num1, num2):\n",
        "    if num2 != 0:\n",
        "        divisao = num1 / num2\n",
        "        print(\"A divisão dos números é:\", divisao)\n",
        "    else:\n",
        "        print(\"Impossível dividir por zero.\")\n",
        "\n",
        "# Função para calcular e imprimir a média dos números\n",
        "def calcular_media(num1, num2):\n",
        "    media = (num1 + num2) / 2\n",
        "    print(\"A média dos números é:\", media)\n",
        "\n",
        "# Leitura do valor de 1 a 4\n",
        "valor = int(input(\"Digite um valor de 1 a 4: \"))\n",
        "\n",
        "# Verificação do valor e execução das operações correspondentes\n",
        "if valor == 0:\n",
        "    num1 = float(input(\"Digite o primeiro número: \"))\n",
        "    num2 = float(input(\"Digite o segundo número: \"))\n",
        "    calcular_soma(num1, num2)\n",
        "elif valor == 1:\n",
        "    num1 = float(input(\"Digite o primeiro número: \"))\n",
        "    num2 = float(input(\"Digite o segundo número: \"))\n",
        "    calcular_subtracao(num1, num2)\n",
        "elif valor == 2:\n",
        "    num1 = float(input(\"Digite o primeiro número: \"))\n",
        "    num2 = float(input(\"Digite o segundo número: \"))\n",
        "    calcular_multiplicacao(num1, num2)\n",
        "elif valor == 3:\n",
        "    num1 = float(input(\"Digite o primeiro número: \"))\n",
        "    num2 = float(input(\"Digite o segundo número: \"))\n",
        "    calcular_divisao(num1, num2)\n",
        "elif valor == 4:\n",
        "    num1 = float(input(\"Digite o primeiro número: \"))\n",
        "    num2 = float(input(\"Digite o segundo número: \"))\n",
        "    calcular_media(num1, num2)\n",
        "else:\n",
        "    print(\"Valor errado. Programa encerrado sem cálculos.\")"
      ],
      "metadata": {
        "id": "PlHjJ50m7mX5",
        "colab": {
          "base_uri": "https://localhost:8080/"
        },
        "outputId": "946e3427-898e-48aa-a45e-24ff7f5bd6fd"
      },
      "execution_count": null,
      "outputs": [
        {
          "output_type": "stream",
          "name": "stdout",
          "text": [
            "Digite um valor de 1 a 4: 4\n",
            "Digite o primeiro número: 3\n",
            "Digite o segundo número: 4\n",
            "A média dos números é: 3.5\n"
          ]
        }
      ]
    },
    {
      "cell_type": "code",
      "source": [],
      "metadata": {
        "id": "ozpAxfNWIhcF"
      },
      "execution_count": null,
      "outputs": []
    },
    {
      "cell_type": "markdown",
      "source": [
        "33. Escrever um algoritmo que leia valores inteiros em duas variáveis distintas e se o resto\n",
        "da divisão da primeira pela segunda for 1 mostre a soma dessas variáveis mais o resto\n",
        "da divisão; se for 2 escreva se o primeiro e o segundo valor são pares ou ímpares; se\n",
        "for igual a 3 multiplique a soma dos valores lidos pelo primeiro; se for igual a 4 divida\n",
        "a soma dos números lidos pelo segundo, se este for diferente de zero. Em qualquer\n",
        "outra situação mostre o quadrado dos números lidos."
      ],
      "metadata": {
        "id": "wb1rtG1k7msp"
      }
    },
    {
      "cell_type": "code",
      "source": [
        "# Entrada dos valores\n",
        "valor1 = int(input(\"Digite o primeiro valor: \"))\n",
        "valor2 = int(input(\"Digite o segundo valor: \"))\n",
        "\n",
        "# Resto da divisão\n",
        "resto = valor1 % valor2\n",
        "\n",
        "# Cálculo e exibição do resultado\n",
        "if resto == 1:\n",
        "    resultado = valor1 + valor2 + resto\n",
        "    print(f\"A soma dos valores mais o resto da divisão é: {resultado}\")\n",
        "elif resto == 2:\n",
        "    if valor1 % 2 == 0 and valor2 % 2 == 0:\n",
        "        print(\"Ambos os valores são pares\")\n",
        "    elif valor1 % 2 == 1 and valor2 % 2 == 1:\n",
        "        print(\"Ambos os valores são ímpares\")\n",
        "    else:\n",
        "        print(\"Um dos valores é par e o outro é ímpar\")\n",
        "elif resto == 3:\n",
        "    soma = valor1 + valor2\n",
        "    resultado = soma * valor1\n",
        "    print(f\"A soma dos valores multiplicada pelo primeiro é: {resultado}\")\n",
        "elif resto == 4 and valor2 != 0:\n",
        "    soma = valor1 + valor2\n",
        "    resultado = soma / valor2\n",
        "    print(f\"A divisão da soma dos valores pelo segundo é: {resultado}\")\n",
        "else:\n",
        "    # Resto diferente de 1, 2, 3 ou 4, ou divisão por zero\n",
        "    quadrado1 = valor1 ** 2\n",
        "    quadrado2 = valor2 ** 2\n",
        "    print(f\"O quadrado do primeiro valor é: {quadrado1}\")\n",
        "    print(f\"O quadrado do segundo valor é: {quadrado2}\")"
      ],
      "metadata": {
        "id": "NK2BUnIr7ovp",
        "colab": {
          "base_uri": "https://localhost:8080/"
        },
        "outputId": "334ef7d5-60b4-427b-f90f-be63b6d0fd8d"
      },
      "execution_count": null,
      "outputs": [
        {
          "output_type": "stream",
          "name": "stdout",
          "text": [
            "Digite o primeiro valor: 4\n",
            "Digite o segundo valor: 2\n",
            "O quadrado do primeiro valor é: 16\n",
            "O quadrado do segundo valor é: 4\n"
          ]
        }
      ]
    },
    {
      "cell_type": "markdown",
      "source": [
        "34. Escreva um algoritmo que leia as idades de 2 homens e 2 mulheres (considere que as\n",
        "idades dos homens serão sempre diferentes, bem como as das mulheres). Calcule e\n",
        "escreva a soma das idades do homem mais velho com a mulher mais nova, e o\n",
        "produto das idades do homem mais novo com a mulher mais velha."
      ],
      "metadata": {
        "id": "5ckRbp-A7pMw"
      }
    },
    {
      "cell_type": "code",
      "source": [
        "# Entrada das idades dos homens\n",
        "idade_homem1 = int(input(\"Digite a idade do primeiro homem: \"))\n",
        "idade_homem2 = int(input(\"Digite a idade do segundo homem: \"))\n",
        "\n",
        "# Entrada das idades das mulheres\n",
        "idade_mulher1 = int(input(\"Digite a idade da primeira mulher: \"))\n",
        "idade_mulher2 = int(input(\"Digite a idade da segunda mulher: \"))\n",
        "\n",
        "# Verificação e armazenamento da idade do homem mais velho\n",
        "if idade_homem1 > idade_homem2:\n",
        "    homem_mais_velho = idade_homem1\n",
        "else:\n",
        "    homem_mais_velho = idade_homem2\n",
        "\n",
        "# Verificação e armazenamento da idade do homem mais novo\n",
        "if idade_homem1 < idade_homem2:\n",
        "    homem_mais_novo = idade_homem1\n",
        "else:\n",
        "    homem_mais_novo = idade_homem2\n",
        "\n",
        "# Verificação e armazenamento da idade da mulher mais velha\n",
        "if idade_mulher1 > idade_mulher2:\n",
        "    mulher_mais_velha = idade_mulher1\n",
        "else:\n",
        "    mulher_mais_velha = idade_mulher2\n",
        "\n",
        "# Verificação e armazenamento da idade da mulher mais nova\n",
        "if idade_mulher1 < idade_mulher2:\n",
        "    mulher_mais_nova = idade_mulher1\n",
        "else:\n",
        "    mulher_mais_nova = idade_mulher2\n",
        "\n",
        "# Cálculo da soma das idades do homem mais velho com a mulher mais nova\n",
        "soma_idades = homem_mais_velho + mulher_mais_nova\n",
        "\n",
        "# Cálculo do produto das idades do homem mais novo com a mulher mais velha\n",
        "produto_idades = homem_mais_novo * mulher_mais_velha\n",
        "\n",
        "# Exibição dos resultados\n",
        "print(f\"A soma das idades do homem mais velho com a mulher mais nova é: {soma_idades}\")\n",
        "print(f\"O produto das idades do homem mais novo com a mulher mais velha é: {produto_idades}\")"
      ],
      "metadata": {
        "id": "nzRlEdAB7rg5",
        "colab": {
          "base_uri": "https://localhost:8080/"
        },
        "outputId": "84921437-faaf-4f16-dbd2-d18cfbe33179"
      },
      "execution_count": null,
      "outputs": [
        {
          "output_type": "stream",
          "name": "stdout",
          "text": [
            "Digite a idade do primeiro homem: 30\n",
            "Digite a idade do segundo homem: 20\n",
            "Digite a idade da primeira mulher: 40\n",
            "Digite a idade da segunda mulher: 20\n",
            "A soma das idades do homem mais velho com a mulher mais nova é: 50\n",
            "O produto das idades do homem mais novo com a mulher mais velha é: 800\n"
          ]
        }
      ]
    },
    {
      "cell_type": "markdown",
      "source": [
        "35. Existem números de 4 dígitos (entre 1000 e 9999) que obedecem à seguinte\n",
        "característica: se dividirmos o número em dois números de dois dígitos, um composto\n",
        "pela dezena e pela unidade, e outro pelo milhar e pela centena, e, ao somarmos estes\n",
        "dois novos números gerando um terceiro, o quadrado deste terceiro número é\n",
        "exatamente o número original de quatro dígitos. Por exemplo:\n",
        "2025 -> dividindo: 20 e 25 -> somando temos 45 -> 452 = 2025.\n",
        "Escreva um programa para ler um número e verificar se ele obedece a esta\n",
        "característica."
      ],
      "metadata": {
        "id": "ufoZ8BwL7sEe"
      }
    },
    {
      "cell_type": "code",
      "source": [
        "def verifica_caracteristica(numero):\n",
        "  \"\"\"\n",
        "  Verifica se o número de 4 dígitos obedece à característica.\n",
        "\n",
        "  Args:\n",
        "    numero: O número de 4 dígitos a ser verificado.\n",
        "\n",
        "  Returns:\n",
        "    True se o número obedece à característica, False caso contrário.\n",
        "  \"\"\"\n",
        "\n",
        "  # Divide o número em dois de dois dígitos\n",
        "  dezena_unidade = numero % 100\n",
        "  milhar_centena = numero // 100\n",
        "\n",
        "  # Soma os dois números\n",
        "  soma = dezena_unidade + milhar_centena\n",
        "\n",
        "  # Calcula o quadrado da soma\n",
        "  quadrado_soma = soma ** 2\n",
        "\n",
        "  # Retorna True se o quadrado da soma for igual ao número original\n",
        "  return quadrado_soma == numero\n",
        "\n",
        "# Leitura do número\n",
        "numero = int(input(\"Digite um número de 4 dígitos: \"))\n",
        "\n",
        "# Verificação da característica\n",
        "if verifica_caracteristica(numero):\n",
        "  print(f\"O número {numero} obedece à característica.\")\n",
        "else:\n",
        "  print(f\"O número {numero} não obedece à característica.\")"
      ],
      "metadata": {
        "id": "yYgMc0fQ7vFi",
        "colab": {
          "base_uri": "https://localhost:8080/"
        },
        "outputId": "89778e63-5569-451b-e1df-3abae087cc0c"
      },
      "execution_count": null,
      "outputs": [
        {
          "output_type": "stream",
          "name": "stdout",
          "text": [
            "Digite um número de 4 dígitos: 9999\n",
            "O número 9999 não obedece à característica.\n"
          ]
        }
      ]
    }
  ]
}