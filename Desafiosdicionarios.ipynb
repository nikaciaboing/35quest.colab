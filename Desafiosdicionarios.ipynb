{
  "nbformat": 4,
  "nbformat_minor": 0,
  "metadata": {
    "colab": {
      "provenance": [],
      "authorship_tag": "ABX9TyO3Lzj/r2N55OLQWhlz7tUn",
      "include_colab_link": true
    },
    "kernelspec": {
      "name": "python3",
      "display_name": "Python 3"
    },
    "language_info": {
      "name": "python"
    }
  },
  "cells": [
    {
      "cell_type": "markdown",
      "metadata": {
        "id": "view-in-github",
        "colab_type": "text"
      },
      "source": [
        "<a href=\"https://colab.research.google.com/github/nikaciaboing/Pythonquest.colab/blob/main/Desafiosdicionarios.ipynb\" target=\"_parent\"><img src=\"https://colab.research.google.com/assets/colab-badge.svg\" alt=\"Open In Colab\"/></a>"
      ]
    },
    {
      "cell_type": "markdown",
      "source": [
        "1. Mesclar Dicionários\n",
        "Combine dois dicionários, substituindo valores comuns pela soma dos valores\n",
        "correspondentes."
      ],
      "metadata": {
        "id": "ahGUoZhzpfpZ"
      }
    },
    {
      "cell_type": "code",
      "execution_count": 2,
      "metadata": {
        "id": "RUkSIhbSoqNY",
        "colab": {
          "base_uri": "https://localhost:8080/"
        },
        "outputId": "9be53e20-8505-4eb1-cb66-88d44a3f0d3a"
      },
      "outputs": [
        {
          "output_type": "stream",
          "name": "stdout",
          "text": [
            "{'a': 2, 'b': 10, 'c': 6, 'd': 9}\n"
          ]
        }
      ],
      "source": [
        "def mergedictssum(dict1, dict2):\n",
        "    mergeddict = {**dict1, **dict2}\n",
        "\n",
        "    for key in dict1:\n",
        "        if key in dict2:\n",
        "            mergeddict[key] = dict1[key] + dict2[key]\n",
        "\n",
        "    return mergeddict\n",
        "\n",
        "dict1 = {'a': 2, 'b': 3, 'c': 5}\n",
        "dict2 = {'b': 7, 'c': 1, 'd': 9}\n",
        "\n",
        "resultado = mergedictssum(dict1, dict2)\n",
        "print(resultado)"
      ]
    },
    {
      "cell_type": "markdown",
      "source": [
        "2. Maior Valor em Dicionário de Dicionários\n",
        "Encontre a chave e valor com o maior valor em um dicionário de dicionários."
      ],
      "metadata": {
        "id": "TUW0-1Lfot8K"
      }
    },
    {
      "cell_type": "code",
      "source": [
        "data = {\n",
        "    'd1': {'a': 10, 'b': 20},\n",
        "    'd2': {'a': 30, 'b': 5},\n",
        "    'd3': {'a': 15, 'b': 25}\n",
        "}\n",
        "\n",
        "maxOuterKey, maxInnerKey, maxValue = max(\n",
        "    ((outerKey, innerKey, innerValue) for outerKey, innerDict in data.items() for innerKey, innerValue in innerDict.items()),\n",
        "    key=lambda item: item[2]\n",
        ")\n",
        "\n",
        "print(f\"Maior valor está em {maxOuterKey} -> {maxInnerKey}.{maxValue}\")\n"
      ],
      "metadata": {
        "id": "EPaGkVeZo3S7",
        "outputId": "0f7dcdb1-82c1-4fa7-ed6c-c3e827f8e2f8",
        "colab": {
          "base_uri": "https://localhost:8080/"
        }
      },
      "execution_count": 18,
      "outputs": [
        {
          "output_type": "stream",
          "name": "stdout",
          "text": [
            "Maior valor está em d2 -> a.30\n"
          ]
        }
      ]
    },
    {
      "cell_type": "markdown",
      "source": [
        "3. Palavras Únicas por Chave\n",
        "Dado um dicionário de listas, encontre as palavras que são únicas para cada\n",
        "chave."
      ],
      "metadata": {
        "id": "U6SgVYREo30u"
      }
    },
    {
      "cell_type": "code",
      "source": [
        "data = {\n",
        "    'lista1': ['maçã', 'banana', 'laranja', 'uva'],\n",
        "    'lista2': ['banana', 'kiwi', 'maçã'],\n",
        "    'lista3': ['melancia', 'laranja', 'abacaxi']\n",
        "}\n",
        "\n",
        "def palavrasunicasporchave(data):\n",
        "    unicasporchave = {}\n",
        "\n",
        "    for chave, lista in data.items():\n",
        "        palavrasdeoutraslistas = []\n",
        "\n",
        "        for outra_chave, outra_lista in data.items():\n",
        "            if outra_chave != chave:\n",
        "                palavrasdeoutraslistas.extend(outra_lista)\n",
        "\n",
        "        unicas = [palavra for palavra in lista if palavra not in palavrasdeoutraslistas]\n",
        "        unicasporchave[chave] = unicas\n",
        "\n",
        "    return unicasporchave\n",
        "\n",
        "resultado = palavrasunicasporchave(data)\n",
        "print(resultado)"
      ],
      "metadata": {
        "id": "KODAyAcOpA9c",
        "colab": {
          "base_uri": "https://localhost:8080/"
        },
        "outputId": "9f00ef7d-5332-4852-e34d-5370d691d331"
      },
      "execution_count": 21,
      "outputs": [
        {
          "output_type": "stream",
          "name": "stdout",
          "text": [
            "{'lista1': ['uva'], 'lista2': ['kiwi'], 'lista3': ['melancia', 'abacaxi']}\n"
          ]
        }
      ]
    },
    {
      "cell_type": "markdown",
      "source": [
        "4. Aninhamento de Chaves\n",
        "Crie um dicionário aninhado com níveis de chaves fornecidos em uma lista."
      ],
      "metadata": {
        "id": "mUmhaD3DpBaY"
      }
    },
    {
      "cell_type": "code",
      "source": [
        "def criar_dicionario_aninhado(chaves, valor_final):\n",
        "    dicionario = vlrfinal\n",
        "    for chave in reversed(chaves):\n",
        "        dicionario = {chave: dicionario}\n",
        "    return dicionario\n",
        "\n",
        "chaves = ['nivel1', 'nivel2', 'nivel3']\n",
        "\n",
        "vlrfinal = 'valor final'\n",
        "\n",
        "dicionarioaninhado = criar_dicionario_aninhado(chaves, vlrfinal)\n",
        "print(dicionarioaninhado)"
      ],
      "metadata": {
        "id": "kI2EebgqpEQx",
        "colab": {
          "base_uri": "https://localhost:8080/"
        },
        "outputId": "2b175b4e-1a6c-4b1d-eaed-3cf0950ea3a1"
      },
      "execution_count": 8,
      "outputs": [
        {
          "output_type": "stream",
          "name": "stdout",
          "text": [
            "{'nivel1': {'nivel2': {'nivel3': 'valor final'}}}\n"
          ]
        }
      ]
    },
    {
      "cell_type": "markdown",
      "source": [
        "5. Dicionário Circular\n",
        "Crie um dicionário em que a última chave aponte para a primeira chave."
      ],
      "metadata": {
        "id": "FJoE2YuCpErn"
      }
    },
    {
      "cell_type": "code",
      "source": [
        "def criar_dicionario_circular(chaves):\n",
        "    dicionario = {}\n",
        "    for i in range(len(chaves) - 1):\n",
        "        dicionario[chaves[i]] = chaves[i + 1]\n",
        "\n",
        "    dicionario[chaves[-1]] = chaves[0]\n",
        "\n",
        "    return dicionario\n",
        "\n",
        "chaves = ['A', 'B', 'C', 'D']\n",
        "\n",
        "dicionariocircular = criar_dicionario_circular(chaves)\n",
        "print(dicionariocircular)"
      ],
      "metadata": {
        "id": "2Mix6__dpJVg",
        "colab": {
          "base_uri": "https://localhost:8080/"
        },
        "outputId": "40ab1b22-3c74-463e-9278-ed4d4605156a"
      },
      "execution_count": 9,
      "outputs": [
        {
          "output_type": "stream",
          "name": "stdout",
          "text": [
            "{'A': 'B', 'B': 'C', 'C': 'D', 'D': 'A'}\n"
          ]
        }
      ]
    },
    {
      "cell_type": "markdown",
      "source": [
        "6. Compressão de Dicionário\n",
        "Comprima um dicionário removendo chaves com valores menores que um\n",
        "determinado limite."
      ],
      "metadata": {
        "id": "rzEDb0-npJrZ"
      }
    },
    {
      "cell_type": "code",
      "source": [
        "def compdicionario(dicionario, limite):\n",
        "    dicionariocomp = {}\n",
        "    for chave, valor in dicionario.items():\n",
        "        if valor >= limite:\n",
        "            dicionariocomp[chave] = valor\n",
        "    return dicionariocomp\n",
        "\n",
        "dicionario = {'a': 5, 'b': 10, 'c': 3, 'd': 8}\n",
        "limite = 5\n",
        "resultado = compdicionario(dicionario, limite)\n",
        "print(resultado)"
      ],
      "metadata": {
        "id": "9tdvEbQnpaFC",
        "colab": {
          "base_uri": "https://localhost:8080/"
        },
        "outputId": "a8e48b17-8e85-45ed-e947-8bb6e84e761c"
      },
      "execution_count": 10,
      "outputs": [
        {
          "output_type": "stream",
          "name": "stdout",
          "text": [
            "{'a': 5, 'b': 10, 'd': 8}\n"
          ]
        }
      ]
    },
    {
      "cell_type": "markdown",
      "source": [
        "7. Frequência de Palavras em Texto\n",
        "Conte a frequência de cada palavra em um texto usando um dicionário."
      ],
      "metadata": {
        "id": "Tuqq5gjlpafI"
      }
    },
    {
      "cell_type": "code",
      "source": [
        "def contfrequencia(texto):\n",
        "    palavras = texto.split()\n",
        "    frequencia = {}\n",
        "    for palavra in palavras:\n",
        "        palavra = palavra.lower().strip('.,!?\";:')\n",
        "        if palavra in frequencia:\n",
        "            frequencia[palavra] += 1\n",
        "        else:\n",
        "            frequencia[palavra] = 1\n",
        "    return frequencia\n",
        "\n",
        "texto = \"Olá, mundo! Meu nome é Nikacia.\"\n",
        "resultado = contfrequencia(texto)\n",
        "print(resultado)\n"
      ],
      "metadata": {
        "id": "0gjvqbONpkz3",
        "colab": {
          "base_uri": "https://localhost:8080/"
        },
        "outputId": "11b37249-d509-44b9-8e05-39645bb85a9b"
      },
      "execution_count": 11,
      "outputs": [
        {
          "output_type": "stream",
          "name": "stdout",
          "text": [
            "{'olá': 1, 'mundo': 1, 'meu': 1, 'nome': 1, 'é': 1, 'nikacia': 1}\n"
          ]
        }
      ]
    },
    {
      "cell_type": "markdown",
      "source": [
        "8. Ordenação de Dicionário por Valor\n",
        "Ordene um dicionário com base nos valores, em ordem decrescente."
      ],
      "metadata": {
        "id": "2fpD8L37plYj"
      }
    },
    {
      "cell_type": "code",
      "source": [
        "def ordenardicpvlr(dicionario):\n",
        "    dicionarioordenado = dict(sorted(dicionario.items(), key=lambda item: item[1], reverse=True))\n",
        "    return dicionarioordenado\n",
        "\n",
        "dicionario = {'a': 5, 'b': 10, 'c': 3, 'd': 8}\n",
        "resultado = ordenardicpvlr(dicionario)\n",
        "print(resultado)"
      ],
      "metadata": {
        "id": "ITYV-vaUplty",
        "colab": {
          "base_uri": "https://localhost:8080/"
        },
        "outputId": "34b606b5-917a-4d93-eee4-261f370b17c3"
      },
      "execution_count": 12,
      "outputs": [
        {
          "output_type": "stream",
          "name": "stdout",
          "text": [
            "{'b': 10, 'd': 8, 'a': 5, 'c': 3}\n"
          ]
        }
      ]
    },
    {
      "cell_type": "markdown",
      "source": [
        "9. Dicionário de Matrizes\n",
        "Crie um dicionário de matrizes, onde as chaves são coordenadas e os valores são\n",
        "os elementos correspondentes."
      ],
      "metadata": {
        "id": "vGYAtKa2powt"
      }
    },
    {
      "cell_type": "code",
      "source": [
        "def criardicmatriz(matriz):\n",
        "    dicionariom = {}\n",
        "    for i in range(len(matriz)):\n",
        "        for j in range(len(matriz[i])):\n",
        "            dicionariom[(i, j)] = matriz[i][j]\n",
        "    return dicionariom\n",
        "\n",
        "matriz = [\n",
        "    [1, 2, 3],\n",
        "    [4, 5, 6],\n",
        "    [7, 8, 9]\n",
        "]\n",
        "\n",
        "resultado = criardicmatriz(matriz)\n",
        "print(resultado)"
      ],
      "metadata": {
        "id": "iAEI853Hp2Zp",
        "colab": {
          "base_uri": "https://localhost:8080/"
        },
        "outputId": "3decb25c-9745-441f-8622-4aac2ce78142"
      },
      "execution_count": 13,
      "outputs": [
        {
          "output_type": "stream",
          "name": "stdout",
          "text": [
            "{(0, 0): 1, (0, 1): 2, (0, 2): 3, (1, 0): 4, (1, 1): 5, (1, 2): 6, (2, 0): 7, (2, 1): 8, (2, 2): 9}\n"
          ]
        }
      ]
    },
    {
      "cell_type": "markdown",
      "source": [
        "10. Mapeamento de Palavras\n",
        "Crie um dicionário que mapeie palavras em um texto para palavras diferentes com\n",
        "base em um dicionário de substituição."
      ],
      "metadata": {
        "id": "uZRl2Eqfp2wm"
      }
    },
    {
      "cell_type": "code",
      "source": [
        "def mapearpalavras(texto, dicsubstituicao):\n",
        "    palavras = texto.split()\n",
        "    palavrasmapeadas = {}\n",
        "    for palavra in palavras:\n",
        "        palavra = palavra.lower().strip('.,!?\";:')\n",
        "        novpalavra = dicsubstituicao.get(palavra, palavra)\n",
        "        palavrasmapeadas[palavra] = novpalavra\n",
        "    return palavrasmapeadas\n",
        "\n",
        "texto = \"O gato correu pelo jardim.\"\n",
        "dicsubstituicao = {\n",
        "    'gato': 'cachorro',\n",
        "    'correu': 'saltou',\n",
        "    'jardim': 'parque'\n",
        "}\n",
        "\n",
        "resultado = mapearpalavras(texto, dicsubstituicao)\n",
        "print(resultado)"
      ],
      "metadata": {
        "id": "fJVm8ZL-p3Ni",
        "colab": {
          "base_uri": "https://localhost:8080/"
        },
        "outputId": "2268e50e-a3e3-46f6-b48b-b79fb22c56b4"
      },
      "execution_count": 14,
      "outputs": [
        {
          "output_type": "stream",
          "name": "stdout",
          "text": [
            "{'o': 'o', 'gato': 'cachorro', 'correu': 'saltou', 'pelo': 'pelo', 'jardim': 'parque'}\n"
          ]
        }
      ]
    }
  ]
}