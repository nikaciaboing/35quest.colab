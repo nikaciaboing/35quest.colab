{
  "nbformat": 4,
  "nbformat_minor": 0,
  "metadata": {
    "colab": {
      "provenance": [],
      "authorship_tag": "ABX9TyPZFJxyNdN/l31k+xKdo1fQ",
      "include_colab_link": true
    },
    "kernelspec": {
      "name": "python3",
      "display_name": "Python 3"
    },
    "language_info": {
      "name": "python"
    }
  },
  "cells": [
    {
      "cell_type": "markdown",
      "metadata": {
        "id": "view-in-github",
        "colab_type": "text"
      },
      "source": [
        "<a href=\"https://colab.research.google.com/github/nikaciaboing/35quest.colab/blob/main/attempythonarquivos.ipynb\" target=\"_parent\"><img src=\"https://colab.research.google.com/assets/colab-badge.svg\" alt=\"Open In Colab\"/></a>"
      ]
    },
    {
      "cell_type": "markdown",
      "source": [
        "1. Crie um programa que crie um arquivo chamado \"texto.txt\" e escreva nele o\n",
        "seguinte texto: \"Olá, mundo!\""
      ],
      "metadata": {
        "id": "oCxPT2KZDTLH"
      }
    },
    {
      "cell_type": "code",
      "execution_count": null,
      "metadata": {
        "id": "mmbW3BImDMvx"
      },
      "outputs": [],
      "source": [
        "with open(\"texto.txt\", \"w\") as arquivo:\n",
        "    arquivo.write(\"Olá, mundo!\")"
      ]
    },
    {
      "cell_type": "markdown",
      "source": [
        "2. Crie um programa que leia o conteúdo do arquivo \"texto.txt\" criado no\n",
        "exercício anterior e o exiba no console."
      ],
      "metadata": {
        "id": "5R0_F9FvkysB"
      }
    },
    {
      "cell_type": "code",
      "source": [
        "with open(\"texto.txt\", \"r\") as arquivo:\n",
        "    conteudo = arquivo.read()\n",
        "    print(conteudo)"
      ],
      "metadata": {
        "colab": {
          "base_uri": "https://localhost:8080/"
        },
        "id": "E1deqnH7k8rF",
        "outputId": "fd1d10f2-9760-4fba-bb0f-490e1624e2ab"
      },
      "execution_count": null,
      "outputs": [
        {
          "output_type": "stream",
          "name": "stdout",
          "text": [
            "Olá, mundo!\n"
          ]
        }
      ]
    },
    {
      "cell_type": "markdown",
      "source": [
        "3. Crie um programa que conte e exiba o número de linhas no arquivo\n",
        "\"texto.txt\"."
      ],
      "metadata": {
        "id": "1UaSfHkulJRC"
      }
    },
    {
      "cell_type": "code",
      "source": [
        "with open(\"texto.txt\", \"r\") as arquivo:\n",
        "    numlinhas = len(arquivo.readlines())\n",
        "    print(\"Número de linhas:\", numlinhas)"
      ],
      "metadata": {
        "colab": {
          "base_uri": "https://localhost:8080/"
        },
        "id": "h6ze7R06lVCe",
        "outputId": "4189bf90-717d-4fd9-c66b-1bd811a32a2f"
      },
      "execution_count": null,
      "outputs": [
        {
          "output_type": "stream",
          "name": "stdout",
          "text": [
            "Número de linhas: 1\n"
          ]
        }
      ]
    },
    {
      "cell_type": "markdown",
      "source": [
        "4. Crie um programa que copie o conteúdo do arquivo \"texto.txt\" para um novo\n",
        "arquivo chamado \"copia.txt\"."
      ],
      "metadata": {
        "id": "VeHq2R3Ilcg3"
      }
    },
    {
      "cell_type": "code",
      "source": [
        "with open(\"texto.txt\", \"r\") as arquivoorigem:\n",
        "    conteudoorigem = arquivoorigem.read()\n",
        "with open(\"copia.txt\", \"w\") as arquivocopia:\n",
        "    arquivocopia.write(conteudoorigem)"
      ],
      "metadata": {
        "id": "0BjvqMcXleWW"
      },
      "execution_count": null,
      "outputs": []
    },
    {
      "cell_type": "markdown",
      "source": [
        "5. Crie um programa que leia o conteúdo dos arquivos \"texto.txt\" e\n",
        "\"copia.txt\", e escreva o conteúdo combinado em um terceiro arquivo\n",
        "chamado \"combinado.txt\"."
      ],
      "metadata": {
        "id": "DTRDc48SlwBA"
      }
    },
    {
      "cell_type": "code",
      "source": [
        "with open(\"texto.txt\", \"r\") as arquivotexto:\n",
        "    conteudotexto = arquivotexto.read()\n",
        "with open(\"copia.txt\", \"r\") as arquivocopia:\n",
        "    conteudocopia = arquivocopia.read()\n",
        "with open(\"combinado.txt\", \"w\") as arquivocombinado:\n",
        "    arquivocombinado.write(conteudotexto + \"\\n\" + conteudocopia)"
      ],
      "metadata": {
        "id": "4h58EJzClx4F"
      },
      "execution_count": null,
      "outputs": []
    },
    {
      "cell_type": "markdown",
      "source": [
        "6. Crie um programa que conte e exiba o número de palavras no arquivo\n",
        "\"texto.txt\"."
      ],
      "metadata": {
        "id": "c6HDFZVomNnX"
      }
    },
    {
      "cell_type": "code",
      "source": [
        "with open(\"texto.txt\", \"r\") as arquivo:\n",
        "    conteudo = arquivo.read()\n",
        "    numpalavras = len(conteudo.split())\n",
        "    print(\"Número de palavras:\", numpalavras)"
      ],
      "metadata": {
        "colab": {
          "base_uri": "https://localhost:8080/"
        },
        "id": "MlpqiGTbmWm9",
        "outputId": "7d987fad-acde-4b05-fa25-03b3956ef95c"
      },
      "execution_count": null,
      "outputs": [
        {
          "output_type": "stream",
          "name": "stdout",
          "text": [
            "Número de palavras: 2\n"
          ]
        }
      ]
    },
    {
      "cell_type": "markdown",
      "source": [
        "7. Crie um programa que leia o conteúdo do arquivo \"texto.txt\" e substitua\n",
        "todas as ocorrências da palavra \"mundo\" por \"Python\". O novo conteúdo deve ser\n",
        "escrito em um novo arquivo chamado \"modificado.txt\"."
      ],
      "metadata": {
        "id": "GQ1Ws5Qemd7G"
      }
    },
    {
      "cell_type": "code",
      "source": [
        "with open(\"texto.txt\", \"r\") as arquivo:\n",
        "    conteudo = arquivo.read()\n",
        "    conteudomodificado = conteudo.replace(\"mundo\", \"Python\")\n",
        "with open(\"modificado.txt\", \"w\") as arquivo_modificado:\n",
        "    arquivo_modificado.write(conteudomodificado)"
      ],
      "metadata": {
        "id": "Xvn7gCprmgTO"
      },
      "execution_count": null,
      "outputs": []
    },
    {
      "cell_type": "markdown",
      "source": [
        "8. Crie um programa que adicione a frase \"Isso é incrível!\" ao final do arquivo\n",
        "\"texto.txt\"."
      ],
      "metadata": {
        "id": "qJPOodALnCHl"
      }
    },
    {
      "cell_type": "code",
      "source": [
        "with open(\"texto.txt\", \"a\") as arquivo:\n",
        "    arquivo.write(\"\\nIsso é incrível!\")"
      ],
      "metadata": {
        "id": "-wqB1ApYnHLi"
      },
      "execution_count": null,
      "outputs": []
    },
    {
      "cell_type": "markdown",
      "source": [
        "9. Crie um programa que leia o conteúdo do arquivo \"texto.txt\" e conte quantas\n",
        "letras (excluindo espaços) estão presentes no texto."
      ],
      "metadata": {
        "id": "8uu22sgLnJzR"
      }
    },
    {
      "cell_type": "code",
      "source": [
        "with open(\"texto.txt\", \"r\") as arquivo:\n",
        "    conteudo = arquivo.read()\n",
        "    letrassemespacos = len([char for char in conteudo if char.isalpha()])\n",
        "    print(\"Número de letras:\", letrassemespacos)"
      ],
      "metadata": {
        "colab": {
          "base_uri": "https://localhost:8080/"
        },
        "id": "MyaUjVUDnMOZ",
        "outputId": "593fc7cd-3a59-42aa-f028-2293cc3d196e"
      },
      "execution_count": null,
      "outputs": [
        {
          "output_type": "stream",
          "name": "stdout",
          "text": [
            "Número de letras: 21\n"
          ]
        }
      ]
    },
    {
      "cell_type": "markdown",
      "source": [
        "10. Crie um programa que leia o conteúdo do arquivo \"numeros.txt\" (contendo\n",
        "números inteiros separados por vírgula), some esses números e exiba o\n",
        "resultado."
      ],
      "metadata": {
        "id": "pMraqCmYnfu7"
      }
    },
    {
      "cell_type": "code",
      "source": [
        "with open(\"numeros.txt\", \"r\") as arquivo:\n",
        "    conteudo = arquivo.read()\n",
        "    numeros = [int(num) for num in conteudo.split(\",\")]\n",
        "    soma = sum(numeros)\n",
        "    print(\"Soma dos números:\", soma)"
      ],
      "metadata": {
        "id": "VXmanxuynoRs"
      },
      "execution_count": null,
      "outputs": []
    },
    {
      "cell_type": "markdown",
      "source": [
        "11. Faça um programa que leia um arquivo texto contendo uma lista de endereços IP\n",
        "e gere um outro arquivo, contendo um relatório dos endereços IP válidos e\n",
        "inválidos.\n",
        "O arquivo de entrada possui o seguinte formato:\n",
        "200.135.80.9\n",
        "192.168.1.1\n",
        "8.35.67.74\n",
        "257.32.4.5\n",
        "85.345.1.2\n",
        "1.2.3.4\n",
        "9.8.234.5\n",
        "192.168.0.256\n",
        "O arquivo de saída possui o seguinte formato:\n",
        "[Endereços válidos:]\n",
        "200.135.80.9\n",
        "192.168.1.1\n",
        "8.35.67.74\n",
        "1.2.3.4\n",
        "[Endereços inválidos:]\n",
        "257.32.4.5\n",
        "85.345.1.2\n",
        "9.8.234.5\n",
        "192.168.0.256"
      ],
      "metadata": {
        "id": "CkTLtUTQnu22"
      }
    },
    {
      "cell_type": "code",
      "source": [
        "with open(\"entrada_ips.txt\", \"w\") as arquivoExemplo:\n",
        "    arquivoExemplo.write(\"200.135.80.9\\n192.168.1.1\\n8.35.67.74\\n257.32.4.5\\n85.345.1.2\\n1.2.3.4\\n9.8.234.5\\n192.168.0.256\\n\")\n",
        "\n",
        "import re\n",
        "\n",
        "def validarIP(ip):\n",
        "    padraoIP = re.compile(r'^((25[0-5]|2[0-4][0-9]|[01]?[0-9][0-9]?)\\.){3}(25[0-5]|2[0-4][0-9]|[01]?[0-9][0-9]?)$')\n",
        "    return padraoIP.match(ip) is not None\n",
        "\n",
        "with open(\"entrada_ips.txt\", \"r\") as arquivoEntrada:\n",
        "    ips = arquivoEntrada.readlines()\n",
        "\n",
        "ipsValidos = []\n",
        "ipsInvalidos = []\n",
        "\n",
        "for ip in ips:\n",
        "    ip = ip.strip()\n",
        "    if validarIP(ip):\n",
        "        ipsValidos.append(ip)\n",
        "    else:\n",
        "        ipsInvalidos.append(ip)\n",
        "\n",
        "with open(\"relatorio_ips.txt\", \"w\") as arquivoRelatorio:\n",
        "    arquivoRelatorio.write(\"[Endereços válidos:]\\n\")\n",
        "    for ip in ipsValidos:\n",
        "        arquivoRelatorio.write(ip + \"\\n\")\n",
        "\n",
        "    arquivoRelatorio.write(\"[Endereços inválidos:]\\n\")\n",
        "    for ip in ipsInvalidos:\n",
        "        arquivoRelatorio.write(ip + \"\\n\")\n",
        "\n",
        "print(\"Relatório gerado com sucesso!\")"
      ],
      "metadata": {
        "colab": {
          "base_uri": "https://localhost:8080/"
        },
        "id": "QH3q6n5Gn7Z2",
        "outputId": "9b16e2a4-fc47-46d5-ec87-359dc0da1a66"
      },
      "execution_count": null,
      "outputs": [
        {
          "output_type": "stream",
          "name": "stdout",
          "text": [
            "Relatório gerado com sucesso!\n"
          ]
        }
      ]
    },
    {
      "cell_type": "markdown",
      "source": [
        "12. A ACME Inc., uma empresa de 500 funcionários, está tendo problemas de espaço\n",
        "em disco no seu servidor de arquivos. Para tentar resolver este problema, o\n",
        "Administrador de Rede precisa saber qual o espaço ocupado pelos usuários, e\n",
        "identificar os usuários com maior espaço ocupado. Através de um programa,\n",
        "baixado da Internet, ele conseguiu gerar o seguinte arquivo, chamado\n",
        "\"usuarios.txt\":\n",
        "alexandre 456123789\n",
        "anderson 1245698456\n",
        "antonio 123456456\n",
        "carlos 91257581\n",
        "cesar 987458\n",
        "rosemary 789456125\n",
        "No arquivo acima, o nome do usuário possui 15 caracteres. A partir dele, você deve\n",
        "criar um programa que gere um relatório, chamado \"relatório.txt\", no seguinte\n",
        "formato:\n",
        "ACME Inc. Uso do espaço em disco pelos usuários\n",
        "------------------------------------------------------------------------\n",
        "Nr. Usuário Espaço utilizado % do uso\n",
        "1 alexandre 434,99 MB 16,85%\n",
        "2 anderson 1187,99 MB 46,02%\n",
        "3 antonio 117,73 MB 4,56%\n",
        "4 carlos 87,03 MB 3,37%\n",
        "5 cesar 0,94 MB 0,04%\n",
        "6 rosemary 752,88 MB 29,16%\n",
        "Espaço total ocupado: 2581,57 MB\n",
        "Espaço médio ocupado: 430,26 MB\n",
        "\n",
        "Observação: O arquivo de entrada deve ser lido uma única vez, e os dados\n",
        "armazenados em memória, caso sejam necessários, de forma a agilizar a execução do\n",
        "programa. A conversão do espaço ocupado em disco, de bytes para megabytes deverá\n",
        "ser feita através de uma função separada, que será chamada pelo programa principal.\n",
        "O cálculo do percentual de uso também deverá ser feito através de uma função, que\n",
        "será chamada pelo programa principal."
      ],
      "metadata": {
        "id": "MT04GG02q2Al"
      }
    },
    {
      "cell_type": "code",
      "source": [
        "with open(\"usuarios.txt\", \"w\") as arquivo:\n",
        "    arquivo.write(\n",
        "        \"alexandre       456123789\\n\"\n",
        "        \"anderson        1245698456\\n\"\n",
        "        \"antonio         123456456\\n\"\n",
        "        \"carlos          91257581\\n\"\n",
        "        \"cesar           987458\\n\"\n",
        "        \"rosemary        789456125\\n\"\n",
        "    )\n",
        "\n",
        "def bytes_para_megabytes(bytes):\n",
        "    return bytes / (1024 * 1024)\n",
        "\n",
        "def calcular_percentual_uso(espaco_utilizado, espaco_total):\n",
        "    return (espaco_utilizado / espaco_total) * 100\n",
        "\n",
        "with open(\"usuarios.txt\", \"r\") as arquivo_usuarios:\n",
        "    usuarios = arquivo_usuarios.readlines()\n",
        "dados_usuarios = []\n",
        "espaco_total_ocupado = 0\n",
        "\n",
        "for usuario in usuarios:\n",
        "    nome = usuario[:15].strip()\n",
        "    espaco = int(usuario[15:].strip())\n",
        "    espaco_mb = bytes_para_megabytes(espaco)\n",
        "    espaco_total_ocupado += espaco_mb\n",
        "    dados_usuarios.append((nome, espaco_mb))\n",
        "dados_usuarios.sort(key=lambda x: x[1], reverse=True)\n",
        "espaco_medio_ocupado = espaco_total_ocupado / len(dados_usuarios)\n",
        "\n",
        "with open(\"relatorio.txt\", \"w\") as arquivo_relatorio:\n",
        "    arquivo_relatorio.write(\"ACME Inc. Uso do espaço em disco pelos usuários\\n\")\n",
        "    arquivo_relatorio.write(\"----\\n\")\n",
        "    arquivo_relatorio.write(\"Nr.    Usuário        Espaço utilizado     % do uso\\n\")\n",
        "\n",
        "    for i, (nome, espaco_mb) in enumerate(dados_usuarios, start=1):\n",
        "        percentual_uso = calcular_percentual_uso(espaco_mb, espaco_total_ocupado)\n",
        "        arquivo_relatorio.write(f\"{i:<6} {nome:<15} {espaco_mb:>13.2f} MB {percentual_uso:>8.2f}%\\n\")\n",
        "\n",
        "    arquivo_relatorio.write(\"\\nEspaço total ocupado: {:.2f} MB\\n\".format(espaco_total_ocupado))\n",
        "    arquivo_relatorio.write(\"Espaço médio ocupado: {:.2f} MB\\n\".format(espaco_medio_ocupado))\n",
        "\n",
        "print(\"Relatório gerado com sucesso!\")"
      ],
      "metadata": {
        "colab": {
          "base_uri": "https://localhost:8080/"
        },
        "id": "m_PmCx1vrHJ0",
        "outputId": "3541a92b-f878-4e63-c6df-ed6795225aec"
      },
      "execution_count": null,
      "outputs": [
        {
          "output_type": "stream",
          "name": "stdout",
          "text": [
            "Relatório gerado com sucesso!\n"
          ]
        }
      ]
    },
    {
      "cell_type": "markdown",
      "source": [
        "13. Crie um programa que leia um arquivo-texto e gere um arquivo de saída\n",
        "paginado. Cada linha não deve conter mais de 76 caracteres. Cada página terá no\n",
        "máximo 60 linhas. Adicione na última linha de cada página o número da página\n",
        "atual e o nome do arquivo original."
      ],
      "metadata": {
        "id": "uUBHBD99pQ8i"
      }
    },
    {
      "cell_type": "code",
      "source": [
        "def paginarArquivo(entrada, saida):\n",
        "    linhasPorPagina = 60\n",
        "    maxCaracteresPorLinha = 76\n",
        "\n",
        "    with open(entrada, \"r\") as arquivoEntrada:\n",
        "        linhas = arquivoEntrada.readlines()\n",
        "\n",
        "    paginas = []\n",
        "    paginaAtual = []\n",
        "\n",
        "    for linha in linhas:\n",
        "        while len(linha) > maxCaracteresPorLinha:\n",
        "            paginaAtual.append(linha[:maxCaracteresPorLinha] + \"\\n\")\n",
        "            linha = linha[maxCaracteresPorLinha:]\n",
        "        paginaAtual.append(linha)\n",
        "\n",
        "        if len(paginaAtual) >= linhasPorPagina:\n",
        "            paginas.append(paginaAtual)\n",
        "            paginaAtual = []\n",
        "\n",
        "    if paginaAtual:\n",
        "        paginas.append(paginaAtual)\n",
        "\n",
        "    with open(saida, \"w\") as arquivoSaida:\n",
        "        for i, pagina in enumerate(paginas):\n",
        "            for linha in pagina:\n",
        "                arquivoSaida.write(linha)\n",
        "            arquivoSaida.write(f\"\\nPágina {i + 1} - {entrada}\\n\")\n",
        "            arquivoSaida.write(\"=\" * 76 + \"\\n\")\n",
        "\n",
        "with open(\"entrada.txt\", \"w\") as arquivo:\n",
        "    arquivo.write(\"Esta é uma linha de exemplo para o arquivo.\\n\" * 100)\n",
        "paginarArquivo(\"entrada.txt\", \"saidaPaginada.txt\")\n"
      ],
      "metadata": {
        "id": "vcIel3l1pZ3G"
      },
      "execution_count": null,
      "outputs": []
    },
    {
      "cell_type": "markdown",
      "source": [
        "14. Crie um programa que leia um arquivo-texto e elimine os espaços repetidos entre\n",
        "as palavras e o fim das linhas. O arquivo de saída também não deve ter mais de\n",
        "uma linha em branco repetida."
      ],
      "metadata": {
        "id": "4_Bt35XPsuN1"
      }
    },
    {
      "cell_type": "code",
      "source": [
        "import re\n",
        "\n",
        "def limparTexto(linha):\n",
        "    linha = re.sub(r'\\s+', ' ', linha).strip()\n",
        "    return linha\n",
        "\n",
        "with open(\"entrada.txt\", \"r\") as arquivoEntrada:\n",
        "    linhas = arquivoEntrada.readlines()\n",
        "linhasLimpa = []\n",
        "linhaAnteriorEmBranco = False\n",
        "for linha in linhas:\n",
        "    linha = limparTexto(linha)\n",
        "    if linha == \"\":\n",
        "        if not linhaAnteriorEmBranco:\n",
        "            linhasLimpa.append(linha)\n",
        "        linhaAnteriorEmBranco = True\n",
        "    else:\n",
        "        linhasLimpa.append(linha)\n",
        "        linhaAnteriorEmBranco = False\n",
        "with open(\"saidaLimpa.txt\", \"w\") as arquivoSaida:\n",
        "    for linha in linhasLimpa:\n",
        "        arquivoSaida.write(linha + \"\\n\")\n",
        "\n",
        "print(\"Arquivo processado e salvo como 'saidaLimpa.txt'\")\n"
      ],
      "metadata": {
        "colab": {
          "base_uri": "https://localhost:8080/"
        },
        "id": "3_dPtGBJszSX",
        "outputId": "41de94b3-b804-491f-c854-04fff766a074"
      },
      "execution_count": null,
      "outputs": [
        {
          "output_type": "stream",
          "name": "stdout",
          "text": [
            "Arquivo processado e salvo como 'saidaLimpa.txt'\n"
          ]
        }
      ]
    }
  ]
}